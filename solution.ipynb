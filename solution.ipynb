{
 "cells": [
  {
   "cell_type": "code",
   "execution_count": null,
   "id": "018c67c0",
   "metadata": {},
   "outputs": [],
   "source": [
    "# Experiment configuration\n",
    "\n",
    "MAX_CARS = 20\n",
    "\"\"\"Maximum number of cars that may be present at any location per day.\"\"\"\n",
    "\n",
    "MAX_MOVES = 5\n",
    "\n",
    "# first location\n",
    "REQ_ALPHA = 3\n",
    "\"\"\"Poisson parameter describing the rate of car requests at location 1.\"\"\"\n",
    "\n",
    "\n",
    "RET_ALPHA = 3\n",
    "\n",
    "# second location\n",
    "REQ_BETA = 4\n",
    "RET_BETA = 2\n",
    "\n",
    "# discount factor\n",
    "GAMMA = 0.9\n",
    "\n",
    "# rewards\n",
    "RENTAL_CREDIT = 10\n",
    "MOVE_COST = -2"
   ]
  },
  {
   "cell_type": "code",
   "execution_count": 2,
   "id": "ceffd14a",
   "metadata": {},
   "outputs": [
    {
     "data": {
      "text/plain": [
       "(21, 21, 21, 21)"
      ]
     },
     "execution_count": 2,
     "metadata": {},
     "output_type": "execute_result"
    }
   ],
   "source": [
    "import numpy as np\n",
    "from scipy.stats import poisson\n",
    "\n",
    "# outer product of four vectors\n",
    "T = np.einsum(\n",
    "    \"i,j,k,l->ijkl\",\n",
    "    poisson.pmf(inclusive_range(MAX_CARS), REQ_ALPHA),\n",
    "    poisson.pmf(inclusive_range(MAX_CARS), RET_ALPHA),\n",
    "    poisson.pmf(inclusive_range(MAX_CARS), REQ_BETA),\n",
    "    poisson.pmf(inclusive_range(MAX_CARS), RET_BETA),\n",
    ")\n",
    "\n",
    "T.shape"
   ]
  },
  {
   "cell_type": "markdown",
   "id": "b7e46044",
   "metadata": {},
   "source": [
    "#### Expected Return\n",
    "\n",
    "The formula for expected return $G_t$ is given as follows (Bellman eq.):\n",
    "\n",
    "$$Q(s, a) = \\sum_{s', r} p(s', r | s, a)[r + \\gamma V(s')]$$\n",
    "\n",
    "In the context of Jack's Car Rental, we know that the state is the number of cars at each location at the end of the day, and the actions are the net numbers of cars moved between the two locations overnight.\n",
    "\n",
    "Sequentially, it looks like this:\n",
    "\n",
    "1. Initial state $s_{n-1}$ = $(i, j)$: count of cars at each location the night prior to day $n$.\n",
    "\n",
    "2. Select action $a \\in \\mathcal{A}(s)$ denoting how many cars to move before day $n$.\n",
    "\n",
    "   - Move $|a|$ cars at a cost of $2 per car. A negative value of $a$ means moving cars from the 1st location to the 2nd location. A positive value means moving cars from the 2nd location to the 1st location. Zero means moving no cars.\n",
    "\n",
    "3. Move $a$ cars at a cost of $2 per car.\n",
    "   - Negative means 1st location to 2nd location.\n",
    "     - Clip $a$ such that $a=\\max(a, -i)$.\n",
    "   - Positive means 2nd location to 1st location.\n",
    "     - Clip $a$ such that $a=\\min(a, j)$.\n",
    "\n",
    "4. Start of day $n$, state is $(i, j)$.\n",
    "5. Sample $A_{\\text{out}} \\sim \\text{Pois}(\\alpha_{\\text{request}})$ cars requested from location $\\alpha$.\n",
    "\n",
    "6. Sample $B_{\\text{out}} \\sim \\text{Pois}(\\beta_{\\text{request}})$ cars requested from location $\\beta$.\n",
    "\n",
    "7. Sample $A_{\\text{in}} \\sim \\text{Pois}(\\alpha_{\\text{return}})$ cars returned at location $\\alpha$.\n",
    "\n",
    "8. Sample $B_{\\text{in}} \\sim \\text{Pois}(\\beta_{\\text{return}})$ cars returned at location $\\beta$."
   ]
  },
  {
   "cell_type": "code",
   "execution_count": null,
   "id": "19869889",
   "metadata": {},
   "outputs": [],
   "source": [
    "def actions(state: tuple[int, int]) -> list[int]:\n",
    "    validate_state(state)\n",
    "    n_cars_alpha, n_cars_beta = state\n",
    "    lower_bound = max(-MAX_MOVES, -n_cars_alpha)\n",
    "    upper_bound = min(+MAX_MOVES, +n_cars_beta)\n",
    "    return np.arange(lower_bound, upper_bound + 1)\n",
    "\n",
    "\n",
    "def validate_state(state: tuple[int, int]):\n",
    "    n_cars_alpha, n_cars_beta = state\n",
    "    if not (0 <= n_cars_alpha <= MAX_CARS):\n",
    "        raise ValueError(f\"invalid alpha state: {n_cars_alpha}\")\n",
    "    if not (0 <= n_cars_beta <= MAX_CARS):\n",
    "        raise ValueError(f\"invalid beta state: {n_cars_beta}\")\n",
    "\n",
    "\n",
    "def validate_state_action(state: tuple[int, int], action: int):\n",
    "    # actions also validates state!\n",
    "    if action not in actions(state):\n",
    "        raise ValueError(f\"invalid action: {action}\")"
   ]
  },
  {
   "cell_type": "code",
   "execution_count": null,
   "id": "6a6850a8",
   "metadata": {},
   "outputs": [],
   "source": [
    "def expected_return(state: tuple[int, int], action: int) -> float:\n",
    "    validate_state_action(state, action)\n",
    "\n",
    "    "
   ]
  },
  {
   "cell_type": "markdown",
   "id": "269bd78e",
   "metadata": {},
   "source": [
    "#### Policy Iteration"
   ]
  },
  {
   "cell_type": "code",
   "execution_count": null,
   "id": "4429f462",
   "metadata": {},
   "outputs": [],
   "source": [
    "# initialize value function and policy to arbitrary values\n",
    "V = np.zeros((MAX_CARS + 1, MAX_CARS + 1), dtype=float)\n",
    "pi = np.zeros((MAX_CARS + 1, MAX_CARS + 1), dtype=int)"
   ]
  },
  {
   "cell_type": "code",
   "execution_count": null,
   "id": "274832b7",
   "metadata": {},
   "outputs": [],
   "source": [
    "import functools\n",
    "\n",
    "\n",
    "def iter_states():\n",
    "    \"\"\"Return an iterator over all (i, j) state values.\n",
    "\n",
    "    Each pair represents the number of cars at the 1st and 2nd locations,\n",
    "    respectively. As such, i and j both fall in the range [0, MAX_CARS].\n",
    "\n",
    "    Returns:\n",
    "        _type_: _description_\n",
    "    \"\"\"\n",
    "    return functools.product(range(MAX_CARS + 1), range(MAX_CARS + 1))\n",
    "\n",
    "\n",
    "def policy_evaluation(theta: float = 1e-3, max_iter: int = 25):\n",
    "    for _ in range(max_iter):\n",
    "        delta = 0\n",
    "        for state in iter_states():\n",
    "            v = V[state]\n",
    "            V[state] = expected_return(state, pi[state])\n",
    "            delta = max(delta, abs(v - V[state]))\n",
    "        if delta < theta:\n",
    "            return\n",
    "\n",
    "\n",
    "def policy_improvement():\n",
    "    policy_stable = True\n",
    "    for state in iter_states():\n",
    "        old_action = pi[state]\n",
    "        # pi[state] = argmax(expected_return(state, action) for action in actions)\n",
    "        if old_action != pi[state]:\n",
    "            policy_stable = False\n",
    "    return policy_stable\n",
    "\n",
    "\n",
    "def policy_iteration():\n",
    "    while True:\n",
    "        policy_evaluation()\n",
    "        policy_stable = policy_improvement()\n",
    "        if policy_stable:\n",
    "            break"
   ]
  }
 ],
 "metadata": {
  "kernelspec": {
   "display_name": ".venv",
   "language": "python",
   "name": "python3"
  },
  "language_info": {
   "codemirror_mode": {
    "name": "ipython",
    "version": 3
   },
   "file_extension": ".py",
   "mimetype": "text/x-python",
   "name": "python",
   "nbconvert_exporter": "python",
   "pygments_lexer": "ipython3",
   "version": "3.12.10"
  }
 },
 "nbformat": 4,
 "nbformat_minor": 5
}
